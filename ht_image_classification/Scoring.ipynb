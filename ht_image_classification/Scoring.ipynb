{
 "cells": [
  {
   "cell_type": "markdown",
   "metadata": {},
   "source": [
    "## Scoring   \n",
    "The goal of this notebook is to take a list of image shas and confidence scores and generate cluster level scores for maximum and average ad-level aggregation.\n",
    "\n",
    "### Inputs\n",
    "1. cp1_results.csv   \n",
    "This is a csv mapping image shas to confidence scores, typically the output of `compute_classifications`.\n",
    "2. CP1_data.csv   \n",
    "This is a csv with columns for cluster_id, ad_id, image_sha, class (class isn't required for this notebook). See the 'Data Preparation' notebook for obtaining this file.\n",
    "\n",
    "### Outputs\n",
    "1. scores.avg.jl   \n",
    "This is a csv file containing 4 columns: cluster_id, ad_id, image_sha, class\n",
    "2. scores.max.jl   \n",
    "Expects a DATA_FILE to be a csv in the format of: image_sha1, score    \n",
    "Expects a TOTAL_DATA_FILE to be a csv in the format of: cluster_id, ad_id, image_sha1, class"
   ]
  },
  {
   "cell_type": "code",
   "execution_count": null,
   "metadata": {
    "collapsed": true
   },
   "outputs": [],
   "source": [
    "__depends__ = ['cp1_results.csv', 'CP1_data.csv']\n",
    "__dest__ = ['scores.avg.jl', 'scores.max.jl']\n",
    "\n",
    "DATA_FILE = 'cp1_results.csv'\n",
    "TOTAL_DATA_FILE = 'CP1_data.csv'"
   ]
  },
  {
   "cell_type": "code",
   "execution_count": null,
   "metadata": {
    "collapsed": true
   },
   "outputs": [],
   "source": [
    "import csv\n",
    "import json\n",
    "import numpy as np\n",
    "from collections import defaultdict"
   ]
  },
  {
   "cell_type": "code",
   "execution_count": null,
   "metadata": {
    "collapsed": true
   },
   "outputs": [],
   "source": [
    "cluster_id_to_ad_ids = defaultdict(set)\n",
    "ad_id_to_image_shas = defaultdict(set)\n",
    "image_sha_scores = {}"
   ]
  },
  {
   "cell_type": "code",
   "execution_count": null,
   "metadata": {
    "collapsed": true
   },
   "outputs": [],
   "source": [
    "with open(DATA_FILE) as infile:\n",
    "    for (sha1, score) in csv.reader(infile):\n",
    "        image_sha_scores[sha1] = score"
   ]
  },
  {
   "cell_type": "code",
   "execution_count": null,
   "metadata": {
    "collapsed": true
   },
   "outputs": [],
   "source": [
    "with open(TOTAL_DATA_FILE) as infile:\n",
    "    for (cluster_id, ad_id, image_sha1, _) in csv.reader(infile):\n",
    "        cluster_id_to_ad_ids[cluster_id].add(ad_id)\n",
    "        ad_id_to_image_shas[ad_id].add(image_sha1)"
   ]
  },
  {
   "cell_type": "code",
   "execution_count": null,
   "metadata": {
    "collapsed": false
   },
   "outputs": [],
   "source": [
    "def ad_score(ad_id, func=np.average):\n",
    "    image_scores = [float(image_sha_scores[sha]) for sha in ad_id_to_image_shas[ad_id]]\n",
    "    return func(image_scores)\n",
    "                  \n",
    "def cluster_score(cluster_id, func=np.average):\n",
    "    return func([ad_score(ad_id) for ad_id in cluster_id_to_ad_ids[cluster_id]])"
   ]
  },
  {
   "cell_type": "code",
   "execution_count": null,
   "metadata": {
    "collapsed": true
   },
   "outputs": [],
   "source": [
    "with open('scores.avg.jl', 'w') as outfile:\n",
    "    for cluster_id in cluster_id_to_ad_ids:\n",
    "        outfile.write(json.dumps({'cluster_id': cluster_id,\n",
    "                                  'score': cluster_score(cluster_id)}) + '\\n')       "
   ]
  },
  {
   "cell_type": "code",
   "execution_count": null,
   "metadata": {
    "collapsed": true
   },
   "outputs": [],
   "source": [
    "with open('scores.max.jl', 'w') as outfile:\n",
    "    for cluster_id in cluster_id_to_ad_ids:\n",
    "        outfile.write(json.dumps({'cluster_id': cluster_id,\n",
    "                                  'score': cluster_score(cluster_id, func=np.max)}) + '\\n')       "
   ]
  }
 ],
 "metadata": {
  "kernelspec": {
   "display_name": "Python 2",
   "language": "python",
   "name": "python2"
  },
  "language_info": {
   "codemirror_mode": {
    "name": "ipython",
    "version": 2
   },
   "file_extension": ".py",
   "mimetype": "text/x-python",
   "name": "python",
   "nbconvert_exporter": "python",
   "pygments_lexer": "ipython2",
   "version": "2.7.12"
  }
 },
 "nbformat": 4,
 "nbformat_minor": 1
}
