{
 "cells": [
  {
   "cell_type": "markdown",
   "metadata": {},
   "source": [
    "# Score Input Images\n",
    "We use a Caffe CNN model to score HT positive probability for a set of images, outputting a CSV of image SHA1 and positive probability score pairs.\n",
    "\n"
   ]
  },
  {
   "cell_type": "code",
   "execution_count": null,
   "metadata": {
    "collapsed": true
   },
   "outputs": [],
   "source": [
    "__depends__ = [\n",
    "    'eval_image_list.txt',  # List of all evaluation images\n",
    "    'compute_many_descriptors.json',  #'compute_many_descriptors.json',\n",
    "    'labels.txt',  # semantic labels for output probability vectors. \"positive\" must be an option.\n",
    "]\n",
    "__dest__ = [\n",
    "    'image_path_to_sha1.csv',  # output from compute_many_descriptors\n",
    "    'image_ht_scores.csv',  # Output scores file\n",
    "]"
   ]
  },
  {
   "cell_type": "code",
   "execution_count": null,
   "metadata": {
    "collapsed": true
   },
   "outputs": [],
   "source": [
    "import csv\n",
    "import json\n",
    "\n",
    "from smqtk.algorithms.classifier.index_label import IndexLabelClassifier\n",
    "from smqtk.representation.data_element.file_element import DataFileElement\n",
    "from smqtk.representation.descriptor_index import get_descriptor_index_impls\n",
    "from smqtk.utils.plugin import from_plugin_config"
   ]
  },
  {
   "cell_type": "code",
   "execution_count": null,
   "metadata": {
    "collapsed": false
   },
   "outputs": [],
   "source": [
    "IMAGE_LIST_FILE = __depends__[0]\n",
    "CMD_CONFIG = __depends__[1]\n",
    "LABELS_FILE = __depends__[2]\n",
    "\n",
    "IMAGE_PATH_TO_SHA = __dest__[0]\n",
    "IMAGE_HT_SCORES_CSV = __dest__[1]"
   ]
  },
  {
   "cell_type": "code",
   "execution_count": null,
   "metadata": {
    "collapsed": false
   },
   "outputs": [],
   "source": [
    "# Compute probability layer results for listed images\n",
    "!compute_many_descriptors -v -b 1000 --check-image -c $CMD_CONFIG -f $IMAGE_LIST_FILE -p  $IMAGE_PATH_TO_SHA"
   ]
  },
  {
   "cell_type": "code",
   "execution_count": null,
   "metadata": {
    "collapsed": false
   },
   "outputs": [],
   "source": [
    "# Load configured descriptor index and use with IndexLabelClassifier\n",
    "cmd_config = json.load(open(CMD_CONFIG))\n",
    "d_index = from_plugin_config(cmd_config['descriptor_index'], get_descriptor_index_impls())\n",
    "\n",
    "classifier = IndexLabelClassifier(LABELS_FILE)\n",
    "descr2cls = classifier.classify_async(d_index, ri=1.0)"
   ]
  },
  {
   "cell_type": "code",
   "execution_count": null,
   "metadata": {
    "collapsed": true
   },
   "outputs": [],
   "source": [
    "with open(IMAGE_HT_SCORES_CSV, 'w') as f:\n",
    "    writer = csv.writer(f)\n",
    "    for cls_elem in descr2cls.itervalues():\n",
    "        writer.writerow([cls_elem.uuid, cls_elem['positive']])"
   ]
  }
 ],
 "metadata": {
  "kernelspec": {
   "display_name": "Python 2",
   "language": "python",
   "name": "python2"
  },
  "language_info": {
   "codemirror_mode": {
    "name": "ipython",
    "version": 2
   },
   "file_extension": ".py",
   "mimetype": "text/x-python",
   "name": "python",
   "nbconvert_exporter": "python",
   "pygments_lexer": "ipython2",
   "version": "2.7.12"
  }
 },
 "nbformat": 4,
 "nbformat_minor": 1
}
